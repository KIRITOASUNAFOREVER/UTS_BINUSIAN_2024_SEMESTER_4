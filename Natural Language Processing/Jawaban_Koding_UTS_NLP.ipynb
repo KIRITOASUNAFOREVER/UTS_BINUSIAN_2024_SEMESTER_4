{
  "nbformat": 4,
  "nbformat_minor": 0,
  "metadata": {
    "colab": {
      "name": "Jawaban_Koding_UTS_NLP.ipynb",
      "provenance": [],
      "collapsed_sections": []
    },
    "kernelspec": {
      "name": "python3",
      "display_name": "Python 3"
    },
    "language_info": {
      "name": "python"
    }
  },
  "cells": [
    {
      "cell_type": "markdown",
      "source": [
        "### Nomor 1"
      ],
      "metadata": {
        "id": "yG5fhzrL4kkE"
      }
    },
    {
      "cell_type": "code",
      "source": [
        "!pip install phone-iso3166"
      ],
      "metadata": {
        "colab": {
          "base_uri": "https://localhost:8080/"
        },
        "id": "3PKYavXAD9qt",
        "outputId": "4e34a098-6f8d-494e-b756-9a2d1e7f0a90"
      },
      "execution_count": null,
      "outputs": [
        {
          "output_type": "stream",
          "name": "stdout",
          "text": [
            "Collecting phone-iso3166\n",
            "  Downloading phone-iso3166-0.3.8.tar.gz (40 kB)\n",
            "\u001b[?25l\r\u001b[K     |████████▏                       | 10 kB 18.9 MB/s eta 0:00:01\r\u001b[K     |████████████████▍               | 20 kB 22.2 MB/s eta 0:00:01\r\u001b[K     |████████████████████████▌       | 30 kB 25.3 MB/s eta 0:00:01\r\u001b[K     |████████████████████████████████| 40 kB 4.7 MB/s \n",
            "\u001b[?25hBuilding wheels for collected packages: phone-iso3166\n",
            "  Building wheel for phone-iso3166 (setup.py) ... \u001b[?25l\u001b[?25hdone\n",
            "  Created wheel for phone-iso3166: filename=phone_iso3166-0.3.8-py3-none-any.whl size=40954 sha256=034955acf59c5e4fbb521a02466c8e0c48c33dbd6bf48288c4c8e05275a9de2e\n",
            "  Stored in directory: /root/.cache/pip/wheels/0c/f0/26/fad38cf8b7edcb2e66e2c5a313e6106c3417f5e86712cb916f\n",
            "Successfully built phone-iso3166\n",
            "Installing collected packages: phone-iso3166\n",
            "Successfully installed phone-iso3166-0.3.8\n"
          ]
        }
      ]
    },
    {
      "cell_type": "code",
      "source": [
        "!pip install pycountry"
      ],
      "metadata": {
        "colab": {
          "base_uri": "https://localhost:8080/"
        },
        "id": "hUtSbhm5EZR4",
        "outputId": "7c83cd18-c4e9-4717-8d33-1a10d8fb2e86"
      },
      "execution_count": null,
      "outputs": [
        {
          "output_type": "stream",
          "name": "stdout",
          "text": [
            "Collecting pycountry\n",
            "  Downloading pycountry-22.3.5.tar.gz (10.1 MB)\n",
            "\u001b[K     |████████████████████████████████| 10.1 MB 24.0 MB/s \n",
            "\u001b[?25h  Installing build dependencies ... \u001b[?25l\u001b[?25hdone\n",
            "  Getting requirements to build wheel ... \u001b[?25l\u001b[?25hdone\n",
            "    Preparing wheel metadata ... \u001b[?25l\u001b[?25hdone\n",
            "Requirement already satisfied: setuptools in /usr/local/lib/python3.7/dist-packages (from pycountry) (57.4.0)\n",
            "Building wheels for collected packages: pycountry\n",
            "  Building wheel for pycountry (PEP 517) ... \u001b[?25l\u001b[?25hdone\n",
            "  Created wheel for pycountry: filename=pycountry-22.3.5-py2.py3-none-any.whl size=10681845 sha256=2d18d9c4174599a9cef103bd97efce6cea0fc76303f1e69e2d686dd838a98c90\n",
            "  Stored in directory: /root/.cache/pip/wheels/0e/06/e8/7ee176e95ea9a8a8c3b3afcb1869f20adbd42413d4611c6eb4\n",
            "Successfully built pycountry\n",
            "Installing collected packages: pycountry\n",
            "Successfully installed pycountry-22.3.5\n"
          ]
        }
      ]
    },
    {
      "cell_type": "code",
      "source": [
        "# Edwin Ario Abdiwijaya\n",
        "# 2440062155 – LA01\n",
        "# Natural Language Processing – UTS\n",
        "\n",
        "# Import the library i need\n",
        "import re\n",
        "from phone_iso3166.country import phone_country\n",
        "import pycountry"
      ],
      "metadata": {
        "id": "N_8JEggvQcq4"
      },
      "execution_count": null,
      "outputs": []
    },
    {
      "cell_type": "code",
      "execution_count": null,
      "metadata": {
        "colab": {
          "base_uri": "https://localhost:8080/"
        },
        "id": "_H3rqoRPBR6H",
        "outputId": "7e14959e-8c4c-4fc0-cf35-d6f9e53d4fc1"
      },
      "outputs": [
        {
          "output_type": "stream",
          "name": "stdout",
          "text": [
            "how many phone number do you want to input: 5\n",
            "input phone number: +6281289434641\n",
            "Valid phone number\n",
            "Indonesia\n",
            "input phone number: +60358577\n",
            "Valid phone number\n",
            "Malaysia\n",
            "input phone number: +44358577\n",
            "Valid phone number\n",
            "United Kingdom\n",
            "input phone number: +91358577\n",
            "Valid phone number\n",
            "India\n",
            "input phone number: +65358577\n",
            "Valid phone number\n",
            "Singapore\n",
            "how many email do you want to input: 1\n",
            "input email: edward@gmail.com\n",
            "Valid email\n"
          ]
        }
      ],
      "source": [
        "# Implement the Regular Expression from 1b and 1c\n",
        "phoneRegexValidation = r'^\\+(9[976]\\d|8[987530]\\d|6[987]\\d|5[90]\\d|42\\d|3[875]\\d|2[98654321]\\d|9[8543210]|8[6421]|6[6543210]|5[87654321]|4[987654310]|3[9643210]|2[70]|7|1)\\d{1,14}'\n",
        "\n",
        "# Input integer on how many times do you want to input the phone number\n",
        "loop = input(\"how many phone number do you want to input: \")\n",
        "# Change loop into integer type\n",
        "loop = int(loop)\n",
        "for a in range(loop):\n",
        "    # Input phone number\n",
        "    phone = input(\"input phone number: \")\n",
        "    # Fullmatch to check whether the phoneRegexValidation is the same pattern as phone\n",
        "    if(re.fullmatch(phoneRegexValidation, phone)):\n",
        "        # If yes, then it's valid\n",
        "        print(\"Valid phone number\")\n",
        "        # Then check whether the number is from Indonesian, Singaporean, or Malaysian\n",
        "        c = pycountry.countries.get(alpha_2=phone_country(phone))\n",
        "        print(c.name)\n",
        "    else:\n",
        "        #if no then, it's not valid\n",
        "        print(\"Phone number not valid\")"
      ]
    },
    {
      "cell_type": "code",
      "source": [
        "emailRegexValidation = r'^[a-zA-Z0-9_.+-]+@(?:(?:[a-zA-Z0-9-]+\\.)?[a-zA-Z]+\\.)?(ac|edu)(\\.[a-zA-Z]+)*'\n",
        "\n",
        "# Input integer on how many times do you want to input the email\n",
        "loop = input(\"how many email do you want to input: \")\n",
        "# Change loop into integer type\n",
        "loop = int(loop)\n",
        "for a in range(loop):\n",
        "    # Input email\n",
        "    email = input(\"input email: \")\n",
        "    # Fullmatch to check whether the emailRegexValidation is the same pattern as email\n",
        "    if(re.fullmatch(emailRegexValidation, email)):\n",
        "        # If yes, then it's valid\n",
        "        print(\"Valid email\")\n",
        "    else:\n",
        "        #if no then, it's not valid\n",
        "        print(\"Email not valid\")"
      ],
      "metadata": {
        "colab": {
          "base_uri": "https://localhost:8080/"
        },
        "id": "tn1KSXTCQV2O",
        "outputId": "0f783a96-8685-4c98-89b3-b9cfb31b1e66"
      },
      "execution_count": null,
      "outputs": [
        {
          "output_type": "stream",
          "name": "stdout",
          "text": [
            "how many email do you want to input: 1\n",
            "input email: edwin+ari@binus.edu\n",
            "Valid email\n"
          ]
        }
      ]
    },
    {
      "cell_type": "markdown",
      "source": [
        "### Nomor 2"
      ],
      "metadata": {
        "id": "1K2bttK-4pgD"
      }
    },
    {
      "cell_type": "code",
      "source": [
        "import nltk"
      ],
      "metadata": {
        "id": "KNDKlWg31YbE"
      },
      "execution_count": null,
      "outputs": []
    },
    {
      "cell_type": "code",
      "source": [
        "# first sentence\n",
        "a = \"Social Signal Processing can be considered as blue-sky research in the Artificial Intelligence area.\""
      ],
      "metadata": {
        "id": "pGxK74Ev1Ztm"
      },
      "execution_count": null,
      "outputs": []
    },
    {
      "cell_type": "code",
      "source": [
        "nltk.download('punkt')"
      ],
      "metadata": {
        "colab": {
          "base_uri": "https://localhost:8080/"
        },
        "id": "gR_7wMmB1teV",
        "outputId": "a00860e2-d694-4dbb-e09c-68d32380bacf"
      },
      "execution_count": null,
      "outputs": [
        {
          "output_type": "stream",
          "name": "stdout",
          "text": [
            "[nltk_data] Downloading package punkt to /root/nltk_data...\n",
            "[nltk_data]   Unzipping tokenizers/punkt.zip.\n"
          ]
        },
        {
          "output_type": "execute_result",
          "data": {
            "text/plain": [
              "True"
            ]
          },
          "metadata": {},
          "execution_count": 3
        }
      ]
    },
    {
      "cell_type": "code",
      "source": [
        "# tokenize the sentences\n",
        "a_token = nltk.word_tokenize(a)"
      ],
      "metadata": {
        "id": "PEik2fOU1jzB"
      },
      "execution_count": null,
      "outputs": []
    },
    {
      "cell_type": "code",
      "source": [
        "nltk.download('averaged_perceptron_tagger')"
      ],
      "metadata": {
        "colab": {
          "base_uri": "https://localhost:8080/"
        },
        "id": "Mvmke1VO10OM",
        "outputId": "623710c8-1292-4d91-d5bf-355fc3497d98"
      },
      "execution_count": null,
      "outputs": [
        {
          "output_type": "stream",
          "name": "stdout",
          "text": [
            "[nltk_data] Downloading package averaged_perceptron_tagger to\n",
            "[nltk_data]     /root/nltk_data...\n",
            "[nltk_data]   Unzipping taggers/averaged_perceptron_tagger.zip.\n"
          ]
        },
        {
          "output_type": "execute_result",
          "data": {
            "text/plain": [
              "True"
            ]
          },
          "metadata": {},
          "execution_count": 5
        }
      ]
    },
    {
      "cell_type": "code",
      "source": [
        "# tag the sentences\n",
        "a_tag = nltk.pos_tag(a_token)"
      ],
      "metadata": {
        "id": "kscJPZUo1mFG"
      },
      "execution_count": null,
      "outputs": []
    },
    {
      "cell_type": "code",
      "source": [
        "print(a_tag)"
      ],
      "metadata": {
        "colab": {
          "base_uri": "https://localhost:8080/"
        },
        "id": "MuDfzaKs2NJw",
        "outputId": "ada0903a-3e12-4994-a60c-e4e96a431517"
      },
      "execution_count": null,
      "outputs": [
        {
          "output_type": "stream",
          "name": "stdout",
          "text": [
            "[('Social', 'NNP'), ('Signal', 'NNP'), ('Processing', 'NNP'), ('can', 'MD'), ('be', 'VB'), ('considered', 'VBN'), ('as', 'IN'), ('blue-sky', 'JJ'), ('research', 'NN'), ('in', 'IN'), ('the', 'DT'), ('Artificial', 'NNP'), ('Intelligence', 'NNP'), ('area', 'NN'), ('.', '.')]\n"
          ]
        }
      ]
    },
    {
      "cell_type": "code",
      "source": [
        "# second sentence\n",
        "b = \"Please book me a flight to Indonesia. I am planning to visit Jojo Academy this week.\""
      ],
      "metadata": {
        "id": "U0SkqXqZ1g1g"
      },
      "execution_count": null,
      "outputs": []
    },
    {
      "cell_type": "code",
      "source": [
        "# tokenize the sentences\n",
        "b_token = nltk.word_tokenize(b)"
      ],
      "metadata": {
        "id": "gL20Oy_d34Qb"
      },
      "execution_count": null,
      "outputs": []
    },
    {
      "cell_type": "code",
      "source": [
        "# tag the sentences\n",
        "b_tag = nltk.pos_tag(b_token)"
      ],
      "metadata": {
        "id": "WdOubakB4AL8"
      },
      "execution_count": null,
      "outputs": []
    },
    {
      "cell_type": "code",
      "source": [
        "print(b_tag)"
      ],
      "metadata": {
        "colab": {
          "base_uri": "https://localhost:8080/"
        },
        "id": "76jt-GF74Cpb",
        "outputId": "71949c48-4046-4cfa-fd83-388e47f447b1"
      },
      "execution_count": null,
      "outputs": [
        {
          "output_type": "stream",
          "name": "stdout",
          "text": [
            "[('Please', 'VB'), ('book', 'NN'), ('me', 'PRP'), ('a', 'DT'), ('flight', 'NN'), ('to', 'TO'), ('Indonesia', 'NNP'), ('.', '.'), ('I', 'PRP'), ('am', 'VBP'), ('planning', 'VBG'), ('to', 'TO'), ('visit', 'VB'), ('Jojo', 'NNP'), ('Academy', 'NNP'), ('this', 'DT'), ('week', 'NN'), ('.', '.')]\n"
          ]
        }
      ]
    },
    {
      "cell_type": "code",
      "source": [
        "# third sentence\n",
        "c = \"I think therefore I am the first principle of Rene Descartes's philosophy.\""
      ],
      "metadata": {
        "id": "YqYcnU001hmr"
      },
      "execution_count": null,
      "outputs": []
    },
    {
      "cell_type": "code",
      "source": [
        "# tokenize the sentences\n",
        "c_token = nltk.word_tokenize(c)"
      ],
      "metadata": {
        "id": "YAFmgDPr4CvE"
      },
      "execution_count": null,
      "outputs": []
    },
    {
      "cell_type": "code",
      "source": [
        "# tag the sentences\n",
        "c_tag = nltk.pos_tag(c_token)"
      ],
      "metadata": {
        "id": "xNTUI2dV4NU4"
      },
      "execution_count": null,
      "outputs": []
    },
    {
      "cell_type": "code",
      "source": [
        "print(c_tag)"
      ],
      "metadata": {
        "colab": {
          "base_uri": "https://localhost:8080/"
        },
        "id": "wHVqNQJS4Qfz",
        "outputId": "674faede-8bce-4d12-b996-29750f0ef9b9"
      },
      "execution_count": null,
      "outputs": [
        {
          "output_type": "stream",
          "name": "stdout",
          "text": [
            "[('I', 'PRP'), ('think', 'VBP'), ('therefore', 'RB'), ('I', 'PRP'), ('am', 'VBP'), ('the', 'DT'), ('first', 'JJ'), ('principle', 'NN'), ('of', 'IN'), ('Rene', 'NNP'), ('Descartes', 'NNP'), (\"'s\", 'POS'), ('philosophy', 'NN'), ('.', '.')]\n"
          ]
        }
      ]
    },
    {
      "cell_type": "markdown",
      "source": [
        "### NOMOR 4"
      ],
      "metadata": {
        "id": "tBOQ3_1DrEKK"
      }
    },
    {
      "cell_type": "code",
      "source": [
        "#import library numpy dan inisialisasikan menjadi np\n",
        "import numpy as np\n",
        "#dari library math import function log\n",
        "from math import log"
      ],
      "metadata": {
        "id": "hMVQnTCprFgk"
      },
      "execution_count": null,
      "outputs": []
    },
    {
      "cell_type": "code",
      "source": [
        "#DEFINED CORPUS\n",
        "\n",
        "#CORPUS\n",
        "C1  = 'Saya,suka,makanan,laut'\n",
        "C2  = 'Saya,suka,minuman,manis'\n",
        "C3  = 'Kemarin,saya,makan,makanan,laut'\n",
        "C4  = 'Hari,ini,saya,makan,makanan,khas,Sunda'\n",
        "C5  = 'Besok,saya,berencana,makan,makanan,khas,Betawi'\n",
        "C6  = 'Kemarin,saya,makan,roti'\n",
        "C7  = 'Hari,ini,saya,makan,Pizza'\n",
        "C8  = 'Besok,saya,berencana,makan,Burger'\n",
        "C9  = 'Hari,ini,saya,minum,teh,tawar'\n",
        "C10 = 'Kemarin,saya,minum,Coca Cola'\n",
        "C11 = 'Besok,saya,berencana,minum,kopi'\n",
        "C12 = 'Lusa,saya,berencana,minum,teh,manis'"
      ],
      "metadata": {
        "id": "C_tC_9yNrGtK"
      },
      "execution_count": null,
      "outputs": []
    },
    {
      "cell_type": "code",
      "metadata": {
        "id": "LirvEC2wDBWV"
      },
      "source": [
        "isiC1  = []\n",
        "isiC2  = []\n",
        "isiC3  = []\n",
        "isiC4  = []\n",
        "isiC5  = []\n",
        "isiC6  = []\n",
        "isiC7  = []\n",
        "isiC8  = []\n",
        "isiC9  = []\n",
        "isiC10 = []\n",
        "isiC11 = []\n",
        "isiC11 = []\n",
        "\n",
        "\n",
        "isiC1  = C1.split(',')\n",
        "isiC2  = C2.split(',')\n",
        "isiC3  = C3.split(',')\n",
        "isiC4  = C4.split(',')\n",
        "isiC5  = C5.split(',')\n",
        "isiC6  = C6.split(',')\n",
        "isiC7  = C7.split(',')\n",
        "isiC8  = C8.split(',')\n",
        "isiC9  = C9.split(',')\n",
        "isiC10 = C10.split(',')\n",
        "isiC11 = C11.split(',')\n",
        "isiC12 = C12.split(',')"
      ],
      "execution_count": null,
      "outputs": []
    },
    {
      "cell_type": "code",
      "source": [
        "#DEFINED INFORMATION\n",
        "information = ['Saya','suka','makanan','laut','minuman','manis','Kemarin','saya','makan','Hari',\n",
        "               'ini','khas','Sunda','Besok','berencana','Betawi','roti','Pizza','Burger','minum',\n",
        "               'teh','tawar','kopi','Lusa']\n",
        "\n",
        "TFC1  = [0,0,0,0,0,0,0,0,0,0,0,0,0,0,0,0,0,0,0,0,0,0,0,0]\n",
        "TFC2  = [0,0,0,0,0,0,0,0,0,0,0,0,0,0,0,0,0,0,0,0,0,0,0,0]\n",
        "TFC3  = [0,0,0,0,0,0,0,0,0,0,0,0,0,0,0,0,0,0,0,0,0,0,0,0]\n",
        "TFC4  = [0,0,0,0,0,0,0,0,0,0,0,0,0,0,0,0,0,0,0,0,0,0,0,0]\n",
        "TFC5  = [0,0,0,0,0,0,0,0,0,0,0,0,0,0,0,0,0,0,0,0,0,0,0,0]\n",
        "TFC6  = [0,0,0,0,0,0,0,0,0,0,0,0,0,0,0,0,0,0,0,0,0,0,0,0]\n",
        "TFC7  = [0,0,0,0,0,0,0,0,0,0,0,0,0,0,0,0,0,0,0,0,0,0,0,0]\n",
        "TFC8  = [0,0,0,0,0,0,0,0,0,0,0,0,0,0,0,0,0,0,0,0,0,0,0,0]\n",
        "TFC9  = [0,0,0,0,0,0,0,0,0,0,0,0,0,0,0,0,0,0,0,0,0,0,0,0]\n",
        "TFC10 = [0,0,0,0,0,0,0,0,0,0,0,0,0,0,0,0,0,0,0,0,0,0,0,0]\n",
        "TFC11 = [0,0,0,0,0,0,0,0,0,0,0,0,0,0,0,0,0,0,0,0,0,0,0,0]\n",
        "TFC12 = [0,0,0,0,0,0,0,0,0,0,0,0,0,0,0,0,0,0,0,0,0,0,0,0]"
      ],
      "metadata": {
        "id": "sP-0g74FtJrr"
      },
      "execution_count": null,
      "outputs": []
    },
    {
      "cell_type": "code",
      "source": [
        "for i in range(len(isiC1)):\n",
        "  for j in range(len(information)):\n",
        "    if(isiC1[i] == information[j]):\n",
        "        TFC1[j] = TFC1[j] + 1\n",
        "        break\n",
        "\n",
        "for i in range(len(isiC2)):\n",
        "  for j in range(len(information)):\n",
        "    if(isiC2[i] == information[j]):\n",
        "      TFC2[j] = TFC2[j] + 1\n",
        "      break\n",
        "\n",
        "for i in range(len(isiC3)):\n",
        "  for j in range(len(information)):\n",
        "    if(isiC3[i] == information[j]):\n",
        "      TFC3[j] = TFC3[j] + 1\n",
        "      break\n",
        "\n",
        "for i in range(len(isiC4)):\n",
        "  for j in range(len(information)):\n",
        "    if(isiC4[i] == information[j]):\n",
        "        TFC4[j] = TFC4[j] + 1\n",
        "        break\n",
        "\n",
        "for i in range(len(isiC5)):\n",
        "  for j in range(len(information)):\n",
        "    if(isiC5[i] == information[j]):\n",
        "        TFC5[j] = TFC5[j] + 1\n",
        "        break\n",
        "\n",
        "for i in range(len(isiC6)):\n",
        "  for j in range(len(information)):\n",
        "    if(isiC6[i] == information[j]):\n",
        "        TFC6[j] = TFC6[j] + 1\n",
        "        break\n",
        "\n",
        "for i in range(len(isiC7)):\n",
        "  for j in range(len(information)):\n",
        "    if(isiC7[i] == information[j]):\n",
        "        TFC7[j] = TFC7[j] + 1\n",
        "        break\n",
        "\n",
        "for i in range(len(isiC8)):\n",
        "  for j in range(len(information)):\n",
        "    if(isiC8[i] == information[j]):\n",
        "        TFC8[j] = TFC8[j] + 1\n",
        "        break\n",
        "\n",
        "for i in range(len(isiC9)):\n",
        "  for j in range(len(information)):\n",
        "    if(isiC9[i] == information[j]):\n",
        "        TFC9[j] = TFC9[j] + 1\n",
        "        break\n",
        "\n",
        "for i in range(len(isiC10)):\n",
        "  for j in range(len(information)):\n",
        "    if(isiC10[i] == information[j]):\n",
        "        TFC10[j] = TFC10[j] + 1\n",
        "        break\n",
        "\n",
        "for i in range(len(isiC11)):\n",
        "  for j in range(len(information)):\n",
        "    if(isiC11[i] == information[j]):\n",
        "        TFC11[j] = TFC11[j] + 1\n",
        "        break\n",
        "\n",
        "for i in range(len(isiC12)):\n",
        "  for j in range(len(information)):\n",
        "    if(isiC12[i] == information[j]):\n",
        "        TFC12[j] = TFC12[j] + 1\n",
        "        break"
      ],
      "metadata": {
        "id": "vYEl5ELQvJrS"
      },
      "execution_count": null,
      "outputs": []
    },
    {
      "cell_type": "code",
      "source": [
        "DFSaya      = 0\n",
        "DFsuka      = 0\n",
        "DFmakanan   = 0\n",
        "DFlaut      = 0\n",
        "DFminuman   = 0\n",
        "DFmanis     = 0\n",
        "DFKemarin   = 0\n",
        "DFsaya      = 0\n",
        "DFmakan     = 0\n",
        "DFHari      = 0\n",
        "DFini       = 0\n",
        "DFkhas      = 0\n",
        "DFSunda     = 0\n",
        "DFBesok     = 0\n",
        "DFberencana = 0\n",
        "DFBetawi    = 0\n",
        "DFroti      = 0\n",
        "DFPizza     = 0\n",
        "DFBurger    = 0\n",
        "DFminum     = 0\n",
        "DFteh       = 0\n",
        "DFtawar     = 0\n",
        "DFkopi      = 0\n",
        "DFLusa      = 0"
      ],
      "metadata": {
        "id": "zE2t_OOjv6Y-"
      },
      "execution_count": null,
      "outputs": []
    },
    {
      "cell_type": "code",
      "source": [
        "if(TFC1[0] >= 1):\n",
        "  DFSaya = DFSaya + 1\n",
        "if(TFC2[0] >= 1):\n",
        "  DFSaya = DFSaya + 1\n",
        "if(TFC3[0] >= 1):\n",
        "  DFSaya = DFSaya + 1\n",
        "if(TFC4[0] >= 1):\n",
        "  DFSaya = DFSaya + 1\n",
        "if(TFC5[0] >= 1):\n",
        "  DFSaya = DFSaya + 1\n",
        "if(TFC6[0] >= 1):\n",
        "  DFSaya = DFSaya + 1\n",
        "if(TFC7[0] >= 1):\n",
        "  DFSaya = DFSaya + 1\n",
        "if(TFC8[0] >= 1):\n",
        "  DFSaya = DFSaya + 1\n",
        "if(TFC9[0] >= 1):\n",
        "  DFSaya = DFSaya + 1\n",
        "if(TFC10[0] >= 1):\n",
        "  DFSaya = DFSaya + 1\n",
        "if(TFC11[0] >= 1):\n",
        "  DFSaya = DFSaya + 1\n",
        "if(TFC12[0] >= 1):\n",
        "  DFSaya = DFSaya + 1"
      ],
      "metadata": {
        "id": "ugu8MS-Aw44Z"
      },
      "execution_count": null,
      "outputs": []
    },
    {
      "cell_type": "code",
      "source": [
        "if(TFC1[1] >= 1):\n",
        "  DFsuka = DFsuka + 1\n",
        "if(TFC2[1] >= 1):\n",
        "  DFsuka = DFsuka + 1\n",
        "if(TFC3[1] >= 1):\n",
        "  DFsuka = DFsuka + 1\n",
        "if(TFC4[1] >= 1):\n",
        "  DFsuka = DFsuka + 1\n",
        "if(TFC5[1] >= 1):\n",
        "  DFsuka = DFsuka + 1\n",
        "if(TFC6[1] >= 1):\n",
        "  DFsuka = DFsuka + 1\n",
        "if(TFC7[1] >= 1):\n",
        "  DFsuka = DFsuka + 1\n",
        "if(TFC8[1] >= 1):\n",
        "  DFsuka = DFsuka + 1\n",
        "if(TFC9[1] >= 1):\n",
        "  DFsuka = DFsuka + 1\n",
        "if(TFC10[1] >= 1):\n",
        "  DFsuka = DFsuka + 1\n",
        "if(TFC11[1] >= 1):\n",
        "  DFsuka = DFsuka + 1\n",
        "if(TFC12[1] >= 1):\n",
        "  DFsuka = DFsuka + 1"
      ],
      "metadata": {
        "id": "T7XGgfPpx8XL"
      },
      "execution_count": null,
      "outputs": []
    },
    {
      "cell_type": "code",
      "source": [
        "if(TFC1[2] >= 1):\n",
        "  DFmakanan = DFmakanan + 1\n",
        "if(TFC2[2] >= 1):\n",
        "  DFmakanan = DFmakanan + 1\n",
        "if(TFC3[2] >= 1):\n",
        "  DFmakanan = DFmakanan + 1\n",
        "if(TFC4[2] >= 1):\n",
        "  DFmakanan = DFmakanan + 1\n",
        "if(TFC5[2] >= 1):\n",
        "  DFmakanan = DFmakanan + 1\n",
        "if(TFC6[2] >= 1):\n",
        "  DFmakanan = DFmakanan + 1\n",
        "if(TFC7[2] >= 1):\n",
        "  DFmakanan = DFmakanan + 1\n",
        "if(TFC8[2] >= 1):\n",
        "  DFmakanan = DFmakanan + 1\n",
        "if(TFC9[2] >= 1):\n",
        "  DFmakanan = DFmakanan + 1\n",
        "if(TFC10[2] >= 1):\n",
        "  DFmakanan = DFmakanan + 1\n",
        "if(TFC11[2] >= 1):\n",
        "  DFmakanan = DFmakanan + 1\n",
        "if(TFC12[2] >= 1):\n",
        "  DFmakanan = DFmakanan + 1"
      ],
      "metadata": {
        "id": "jxu1m9UKyKXF"
      },
      "execution_count": null,
      "outputs": []
    },
    {
      "cell_type": "code",
      "source": [
        "if(TFC1[3] >= 1):\n",
        "  DFlaut = DFlaut + 1\n",
        "if(TFC2[3] >= 1):\n",
        "  DFlaut = DFlaut + 1\n",
        "if(TFC3[3] >= 1):\n",
        "  DFlaut = DFlaut + 1\n",
        "if(TFC4[3] >= 1):\n",
        "  DFlaut = DFlaut + 1\n",
        "if(TFC5[3] >= 1):\n",
        "  DFlaut = DFlaut + 1\n",
        "if(TFC6[3] >= 1):\n",
        "  DFlaut = DFlaut + 1\n",
        "if(TFC7[3] >= 1):\n",
        "  DFlaut = DFlaut + 1\n",
        "if(TFC8[3] >= 1):\n",
        "  DFlaut = DFlaut + 1\n",
        "if(TFC9[3] >= 1):\n",
        "  DFlaut = DFlaut + 1\n",
        "if(TFC10[3] >= 1):\n",
        "  DFlaut = DFlaut + 1\n",
        "if(TFC11[3] >= 1):\n",
        "  DFlaut = DFlaut + 1\n",
        "if(TFC12[3] >= 1):\n",
        "  DFlaut = DFlaut + 1"
      ],
      "metadata": {
        "id": "VoHA4XVhyi0y"
      },
      "execution_count": null,
      "outputs": []
    },
    {
      "cell_type": "code",
      "source": [
        "if(TFC1[4] >= 1):\n",
        "  DFminuman = DFminuman + 1\n",
        "if(TFC2[4] >= 1):\n",
        "  DFminuman = DFminuman + 1\n",
        "if(TFC3[4] >= 1):\n",
        "  DFminuman = DFminuman + 1\n",
        "if(TFC4[4] >= 1):\n",
        "  DFminuman = DFminuman + 1\n",
        "if(TFC5[4] >= 1):\n",
        "  DFminuman = DFminuman + 1\n",
        "if(TFC6[4] >= 1):\n",
        "  DFminuman = DFminuman + 1\n",
        "if(TFC7[4] >= 1):\n",
        "  DFminuman = DFminuman + 1\n",
        "if(TFC8[4] >= 1):\n",
        "  DFminuman = DFminuman + 1\n",
        "if(TFC9[4] >= 1):\n",
        "  DFminuman = DFminuman + 1\n",
        "if(TFC10[4] >= 1):\n",
        "  DFminuman = DFminuman + 1\n",
        "if(TFC11[4] >= 1):\n",
        "  DFminuman = DFminuman + 1\n",
        "if(TFC12[4] >= 1):\n",
        "  DFminuman = DFminuman + 1"
      ],
      "metadata": {
        "id": "2wdD9zJTzRO5"
      },
      "execution_count": null,
      "outputs": []
    },
    {
      "cell_type": "code",
      "source": [
        "if(TFC1[5] >= 1):\n",
        "  DFmanis = DFmanis + 1\n",
        "if(TFC2[5] >= 1):\n",
        "  DFmanis = DFmanis + 1\n",
        "if(TFC3[5] >= 1):\n",
        "  DFmanis = DFmanis + 1\n",
        "if(TFC4[5] >= 1):\n",
        "  DFmanis = DFmanis + 1\n",
        "if(TFC5[5] >= 1):\n",
        "  DFmanis = DFmanis + 1\n",
        "if(TFC6[5] >= 1):\n",
        "  DFmanis = DFmanis + 1\n",
        "if(TFC7[5] >= 1):\n",
        "  DFmanis = DFmanis + 1\n",
        "if(TFC8[5] >= 1):\n",
        "  DFmanis = DFmanis + 1\n",
        "if(TFC9[5] >= 1):\n",
        "  DFmanis = DFmanis + 1\n",
        "if(TFC10[5] >= 1):\n",
        "  DFmanis = DFmanis + 1\n",
        "if(TFC11[5] >= 1):\n",
        "  DFmanis = DFmanis + 1\n",
        "if(TFC12[5] >= 1):\n",
        "  DFmanis = DFmanis + 1"
      ],
      "metadata": {
        "id": "zHd4T_yFzl8q"
      },
      "execution_count": null,
      "outputs": []
    },
    {
      "cell_type": "code",
      "source": [
        "if(TFC1[6] >= 1):\n",
        "  DFKemarin = DFKemarin + 1\n",
        "if(TFC2[6] >= 1):\n",
        "  DFKemarin = DFKemarin + 1\n",
        "if(TFC3[6] >= 1):\n",
        "  DFKemarin = DFKemarin + 1\n",
        "if(TFC4[6] >= 1):\n",
        "  DFKemarin = DFKemarin + 1\n",
        "if(TFC5[6] >= 1):\n",
        "  DFKemarin = DFKemarin + 1\n",
        "if(TFC6[6] >= 1):\n",
        "  DFKemarin = DFKemarin + 1\n",
        "if(TFC7[6] >= 1):\n",
        "  DFKemarin = DFKemarin + 1\n",
        "if(TFC8[6] >= 1):\n",
        "  DFKemarin = DFKemarin + 1\n",
        "if(TFC9[6] >= 1):\n",
        "  DFKemarin = DFKemarin + 1\n",
        "if(TFC10[6] >= 1):\n",
        "  DFKemarin = DFKemarin + 1\n",
        "if(TFC11[6] >= 1):\n",
        "  DFKemarin = DFKemarin + 1\n",
        "if(TFC12[6] >= 1):\n",
        "  DFKemarin = DFKemarin + 1"
      ],
      "metadata": {
        "id": "Q5VTd9Ik0Q7o"
      },
      "execution_count": null,
      "outputs": []
    },
    {
      "cell_type": "code",
      "source": [
        "if(TFC1[7] >= 1):\n",
        "  DFsaya = DFsaya + 1\n",
        "if(TFC2[7] >= 1):\n",
        "  DFsaya = DFsaya + 1\n",
        "if(TFC3[7] >= 1):\n",
        "  DFsaya = DFsaya + 1\n",
        "if(TFC4[7] >= 1):\n",
        "  DFsaya = DFsaya + 1\n",
        "if(TFC5[7] >= 1):\n",
        "  DFsaya = DFsaya + 1\n",
        "if(TFC6[7] >= 1):\n",
        "  DFsaya = DFsaya + 1\n",
        "if(TFC7[7] >= 1):\n",
        "  DFsaya = DFsaya + 1\n",
        "if(TFC8[7] >= 1):\n",
        "  DFsaya = DFsaya + 1\n",
        "if(TFC9[7] >= 1):\n",
        "  DFsaya = DFsaya + 1\n",
        "if(TFC10[7] >= 1):\n",
        "  DFsaya = DFsaya + 1\n",
        "if(TFC11[7] >= 1):\n",
        "  DFsaya = DFsaya + 1\n",
        "if(TFC12[7] >= 1):\n",
        "  DFsaya = DFsaya + 1"
      ],
      "metadata": {
        "id": "qA4fPVzw0xEG"
      },
      "execution_count": null,
      "outputs": []
    },
    {
      "cell_type": "code",
      "source": [
        "if(TFC1[8] >= 1):\n",
        "  DFmakan = DFmakan + 1\n",
        "if(TFC2[8] >= 1):\n",
        "  DFmakan = DFmakan + 1\n",
        "if(TFC3[8] >= 1):\n",
        "  DFmakan = DFmakan + 1\n",
        "if(TFC4[8] >= 1):\n",
        "  DFmakan = DFmakan + 1\n",
        "if(TFC5[8] >= 1):\n",
        "  DFmakan = DFmakan + 1\n",
        "if(TFC6[8] >= 1):\n",
        "  DFmakan = DFmakan + 1\n",
        "if(TFC7[8] >= 1):\n",
        "  DFmakan = DFmakan + 1\n",
        "if(TFC8[8] >= 1):\n",
        "  DFmakan = DFmakan + 1\n",
        "if(TFC9[8] >= 1):\n",
        "  DFmakan = DFmakan + 1\n",
        "if(TFC10[8] >= 1):\n",
        "  DFmakan = DFmakan + 1\n",
        "if(TFC11[8] >= 1):\n",
        "  DFmakan = DFmakan + 1\n",
        "if(TFC12[8] >= 1):\n",
        "  DFmakan = DFmakan + 1"
      ],
      "metadata": {
        "id": "iSsKQ8j81A8i"
      },
      "execution_count": null,
      "outputs": []
    },
    {
      "cell_type": "code",
      "source": [
        "if(TFC1[9] >= 1):\n",
        "  DFHari = DFHari + 1\n",
        "if(TFC2[9] >= 1):\n",
        "  DFHari = DFHari + 1\n",
        "if(TFC3[9] >= 1):\n",
        "  DFHari = DFHari + 1\n",
        "if(TFC4[9] >= 1):\n",
        "  DFHari = DFHari + 1\n",
        "if(TFC5[9] >= 1):\n",
        "  DFHari = DFHari + 1\n",
        "if(TFC6[9] >= 1):\n",
        "  DFHari = DFHari + 1\n",
        "if(TFC7[9] >= 1):\n",
        "  DFHari = DFHari + 1\n",
        "if(TFC8[9] >= 1):\n",
        "  DFHari = DFHari + 1\n",
        "if(TFC9[9] >= 1):\n",
        "  DFHari = DFHari + 1\n",
        "if(TFC10[9] >= 1):\n",
        "  DFHari = DFHari + 1\n",
        "if(TFC11[9] >= 1):\n",
        "  DFHari = DFHari + 1\n",
        "if(TFC12[9] >= 1):\n",
        "  DFHari = DFHari + 1"
      ],
      "metadata": {
        "id": "VuTIaJ641OS3"
      },
      "execution_count": null,
      "outputs": []
    },
    {
      "cell_type": "code",
      "source": [
        "if(TFC1[10] >= 1):\n",
        "  DFini = DFini + 1\n",
        "if(TFC2[10] >= 1):\n",
        "  DFini = DFini + 1\n",
        "if(TFC3[10] >= 1):\n",
        "  DFini = DFini + 1\n",
        "if(TFC4[10] >= 1):\n",
        "  DFini = DFini + 1\n",
        "if(TFC5[10] >= 1):\n",
        "  DFini = DFini + 1\n",
        "if(TFC6[10] >= 1):\n",
        "  DFini = DFini + 1\n",
        "if(TFC7[10] >= 1):\n",
        "  DFini = DFini + 1\n",
        "if(TFC8[10] >= 1):\n",
        "  DFini = DFini + 1\n",
        "if(TFC9[10] >= 1):\n",
        "  DFini = DFini + 1\n",
        "if(TFC10[10] >= 1):\n",
        "  DFini = DFini + 1\n",
        "if(TFC11[10] >= 1):\n",
        "  DFini = DFini + 1\n",
        "if(TFC12[10] >= 1):\n",
        "  DFini = DFini + 1"
      ],
      "metadata": {
        "id": "eP-UNWs11hRj"
      },
      "execution_count": null,
      "outputs": []
    },
    {
      "cell_type": "code",
      "source": [
        "if(TFC1[11] >= 1):\n",
        "  DFkhas = DFkhas + 1\n",
        "if(TFC2[11] >= 1):\n",
        "  DFkhas = DFkhas + 1\n",
        "if(TFC3[11] >= 1):\n",
        "  DFkhas = DFkhas + 1\n",
        "if(TFC4[11] >= 1):\n",
        "  DFkhas = DFkhas + 1\n",
        "if(TFC5[11] >= 1):\n",
        "  DFkhas = DFkhas + 1\n",
        "if(TFC6[11] >= 1):\n",
        "  DFkhas = DFkhas + 1\n",
        "if(TFC7[11] >= 1):\n",
        "  DFkhas = DFkhas + 1\n",
        "if(TFC8[11] >= 1):\n",
        "  DFkhas = DFkhas + 1\n",
        "if(TFC9[11] >= 1):\n",
        "  DFkhas = DFkhas + 1\n",
        "if(TFC10[11] >= 1):\n",
        "  DFkhas = DFkhas + 1\n",
        "if(TFC11[11] >= 1):\n",
        "  DFkhas = DFkhas + 1\n",
        "if(TFC12[11] >= 1):\n",
        "  DFkhas = DFkhas + 1"
      ],
      "metadata": {
        "id": "SXcRhX3g1yzm"
      },
      "execution_count": null,
      "outputs": []
    },
    {
      "cell_type": "code",
      "source": [
        "if(TFC1[12] >= 1):\n",
        "  DFSunda = DFSunda + 1\n",
        "if(TFC2[12] >= 1):\n",
        "  DFSunda = DFSunda + 1\n",
        "if(TFC3[12] >= 1):\n",
        "  DFSunda = DFSunda + 1\n",
        "if(TFC4[12] >= 1):\n",
        "  DFSunda = DFSunda + 1\n",
        "if(TFC5[12] >= 1):\n",
        "  DFSunda = DFSunda + 1\n",
        "if(TFC6[12] >= 1):\n",
        "  DFSunda = DFSunda + 1\n",
        "if(TFC7[12] >= 1):\n",
        "  DFSunda = DFSunda + 1\n",
        "if(TFC8[12] >= 1):\n",
        "  DFSunda = DFSunda + 1\n",
        "if(TFC9[12] >= 1):\n",
        "  DFSunda = DFSunda + 1\n",
        "if(TFC10[12] >= 1):\n",
        "  DFSunda = DFSunda + 1\n",
        "if(TFC11[12] >= 1):\n",
        "  DFSunda = DFSunda + 1\n",
        "if(TFC12[12] >= 1):\n",
        "  DFSunda = DFSunda + 1"
      ],
      "metadata": {
        "id": "dypJwyOX2Jkc"
      },
      "execution_count": null,
      "outputs": []
    },
    {
      "cell_type": "code",
      "source": [
        "if(TFC1[13] >= 1):\n",
        "  DFBesok = DFBesok + 1\n",
        "if(TFC2[13] >= 1):\n",
        "  DFBesok = DFBesok + 1\n",
        "if(TFC3[13] >= 1):\n",
        "  DFBesok = DFBesok + 1\n",
        "if(TFC4[13] >= 1):\n",
        "  DFBesok = DFBesok + 1\n",
        "if(TFC5[13] >= 1):\n",
        "  DFBesok = DFBesok + 1\n",
        "if(TFC6[13] >= 1):\n",
        "  DFBesok = DFBesok + 1\n",
        "if(TFC7[13] >= 1):\n",
        "  DFBesok = DFBesok + 1\n",
        "if(TFC8[13] >= 1):\n",
        "  DFBesok = DFBesok + 1\n",
        "if(TFC9[13] >= 1):\n",
        "  DFBesok = DFBesok + 1\n",
        "if(TFC10[13] >= 1):\n",
        "  DFBesok = DFBesok + 1\n",
        "if(TFC11[13] >= 1):\n",
        "  DFBesok = DFBesok + 1\n",
        "if(TFC12[13] >= 1):\n",
        "  DFBesok = DFBesok + 1"
      ],
      "metadata": {
        "id": "D4wfUIFj2nL0"
      },
      "execution_count": null,
      "outputs": []
    },
    {
      "cell_type": "code",
      "source": [
        "if(TFC1[14] >= 1):\n",
        "  DFberencana = DFberencana + 1\n",
        "if(TFC2[14] >= 1):\n",
        "  DFberencana = DFberencana + 1\n",
        "if(TFC3[14] >= 1):\n",
        "  DFberencana = DFberencana + 1\n",
        "if(TFC4[14] >= 1):\n",
        "  DFberencana = DFberencana + 1\n",
        "if(TFC5[14] >= 1):\n",
        "  DFberencana = DFberencana + 1\n",
        "if(TFC6[14] >= 1):\n",
        "  DFberencana = DFberencana + 1\n",
        "if(TFC7[14] >= 1):\n",
        "  DFberencana = DFberencana + 1\n",
        "if(TFC8[14] >= 1):\n",
        "  DFberencana = DFberencana + 1\n",
        "if(TFC9[14] >= 1):\n",
        "  DFberencana = DFberencana + 1\n",
        "if(TFC10[14] >= 1):\n",
        "  DFberencana = DFberencana + 1\n",
        "if(TFC11[14] >= 1):\n",
        "  DFberencana = DFberencana + 1\n",
        "if(TFC12[14] >= 1):\n",
        "  DFberencana = DFberencana + 1"
      ],
      "metadata": {
        "id": "Aqf2K02G5ojz"
      },
      "execution_count": null,
      "outputs": []
    },
    {
      "cell_type": "code",
      "source": [
        "if(TFC1[15] >= 1):\n",
        "  DFBetawi = DFBetawi + 1\n",
        "if(TFC2[15] >= 1):\n",
        "  DFBetawi = DFBetawi + 1\n",
        "if(TFC3[15] >= 1):\n",
        "  DFBetawi = DFBetawi + 1\n",
        "if(TFC4[15] >= 1):\n",
        "  DFBetawi = DFBetawi + 1\n",
        "if(TFC5[15] >= 1):\n",
        "  DFBetawi = DFBetawi + 1\n",
        "if(TFC6[15] >= 1):\n",
        "  DFBetawi = DFBetawi + 1\n",
        "if(TFC7[15] >= 1):\n",
        "  DFBetawi = DFBetawi + 1\n",
        "if(TFC8[15] >= 1):\n",
        "  DFBetawi = DFBetawi + 1\n",
        "if(TFC9[15] >= 1):\n",
        "  DFBetawi = DFBetawi + 1\n",
        "if(TFC10[15] >= 1):\n",
        "  DFBetawi = DFBetawi + 1\n",
        "if(TFC11[15] >= 1):\n",
        "  DFBetawi = DFBetawi + 1\n",
        "if(TFC12[15] >= 1):\n",
        "  DFBetawi = DFBetawi + 1"
      ],
      "metadata": {
        "id": "lTHkQdRg57Go"
      },
      "execution_count": null,
      "outputs": []
    },
    {
      "cell_type": "code",
      "source": [
        "if(TFC1[16] >= 1):\n",
        "  DFroti = DFroti + 1\n",
        "if(TFC2[16] >= 1):\n",
        "  DFroti = DFroti + 1\n",
        "if(TFC3[16] >= 1):\n",
        "  DFroti = DFroti + 1\n",
        "if(TFC4[16] >= 1):\n",
        "  DFroti = DFroti + 1\n",
        "if(TFC5[16] >= 1):\n",
        "  DFroti = DFroti + 1\n",
        "if(TFC6[16] >= 1):\n",
        "  DFroti = DFroti + 1\n",
        "if(TFC7[16] >= 1):\n",
        "  DFroti = DFroti + 1\n",
        "if(TFC8[16] >= 1):\n",
        "  DFroti = DFroti + 1\n",
        "if(TFC9[16] >= 1):\n",
        "  DFroti = DFroti + 1\n",
        "if(TFC10[16] >= 1):\n",
        "  DFroti = DFroti + 1\n",
        "if(TFC11[16] >= 1):\n",
        "  DFroti = DFroti + 1\n",
        "if(TFC12[16] >= 1):\n",
        "  DFroti = DFroti + 1"
      ],
      "metadata": {
        "id": "1-CZMZHF6Iwc"
      },
      "execution_count": null,
      "outputs": []
    },
    {
      "cell_type": "code",
      "source": [
        "if(TFC1[17] >= 1):\n",
        "  DFPizza = DFPizza + 1\n",
        "if(TFC2[17] >= 1):\n",
        "  DFPizza = DFPizza + 1\n",
        "if(TFC3[17] >= 1):\n",
        "  DFPizza = DFPizza + 1\n",
        "if(TFC4[17] >= 1):\n",
        "  DFPizza = DFPizza + 1\n",
        "if(TFC5[17] >= 1):\n",
        "  DFPizza = DFPizza + 1\n",
        "if(TFC6[17] >= 1):\n",
        "  DFPizza = DFPizza + 1\n",
        "if(TFC7[17] >= 1):\n",
        "  DFPizza = DFPizza + 1\n",
        "if(TFC8[17] >= 1):\n",
        "  DFPizza = DFPizza + 1\n",
        "if(TFC9[17] >= 1):\n",
        "  DFPizza = DFPizza + 1\n",
        "if(TFC10[17] >= 1):\n",
        "  DFPizza = DFPizza + 1\n",
        "if(TFC11[17] >= 1):\n",
        "  DFPizza = DFPizza + 1\n",
        "if(TFC12[17] >= 1):\n",
        "  DFPizza = DFPizza + 1"
      ],
      "metadata": {
        "id": "UXy4WvZr6Xcl"
      },
      "execution_count": null,
      "outputs": []
    },
    {
      "cell_type": "code",
      "source": [
        "if(TFC1[18] >= 1):\n",
        "  DFBurger = DFBurger + 1\n",
        "if(TFC2[18] >= 1):\n",
        "  DFBurger = DFBurger + 1\n",
        "if(TFC3[18] >= 1):\n",
        "  DFBurger = DFBurger + 1\n",
        "if(TFC4[18] >= 1):\n",
        "  DFBurger = DFBurger + 1\n",
        "if(TFC5[18] >= 1):\n",
        "  DFBurger = DFBurger + 1\n",
        "if(TFC6[18] >= 1):\n",
        "  DFBurger = DFBurger + 1\n",
        "if(TFC7[18] >= 1):\n",
        "  DFBurger = DFBurger + 1\n",
        "if(TFC8[18] >= 1):\n",
        "  DFBurger = DFBurger + 1\n",
        "if(TFC9[18] >= 1):\n",
        "  DFBurger = DFBurger + 1\n",
        "if(TFC10[18] >= 1):\n",
        "  DFBurger = DFBurger + 1\n",
        "if(TFC11[18] >= 1):\n",
        "  DFBurger = DFBurger + 1\n",
        "if(TFC12[18] >= 1):\n",
        "  DFBurger = DFBurger + 1"
      ],
      "metadata": {
        "id": "ymI_lEaY6lDC"
      },
      "execution_count": null,
      "outputs": []
    },
    {
      "cell_type": "code",
      "source": [
        "if(TFC1[19] >= 1):\n",
        "  DFminum = DFminum + 1\n",
        "if(TFC2[19] >= 1):\n",
        "  DFminum = DFminum + 1\n",
        "if(TFC3[19] >= 1):\n",
        "  DFminum = DFminum + 1\n",
        "if(TFC4[19] >= 1):\n",
        "  DFminum = DFminum + 1\n",
        "if(TFC5[19] >= 1):\n",
        "  DFminum = DFminum + 1\n",
        "if(TFC6[19] >= 1):\n",
        "  DFminum = DFminum + 1\n",
        "if(TFC7[19] >= 1):\n",
        "  DFminum = DFminum + 1\n",
        "if(TFC8[19] >= 1):\n",
        "  DFminum = DFminum + 1\n",
        "if(TFC9[19] >= 1):\n",
        "  DFminum = DFminum + 1\n",
        "if(TFC10[19] >= 1):\n",
        "  DFminum = DFminum + 1\n",
        "if(TFC11[19] >= 1):\n",
        "  DFminum = DFminum + 1\n",
        "if(TFC12[19] >= 1):\n",
        "  DFminum = DFminum + 1"
      ],
      "metadata": {
        "id": "oVRW6qKo602R"
      },
      "execution_count": null,
      "outputs": []
    },
    {
      "cell_type": "code",
      "source": [
        "if(TFC1[20] >= 1):\n",
        "  DFteh = DFteh + 1\n",
        "if(TFC2[20] >= 1):\n",
        "  DFteh = DFteh + 1\n",
        "if(TFC3[20] >= 1):\n",
        "  DFteh = DFteh + 1\n",
        "if(TFC4[20] >= 1):\n",
        "  DFteh = DFteh + 1\n",
        "if(TFC5[20] >= 1):\n",
        "  DFteh = DFteh + 1\n",
        "if(TFC6[20] >= 1):\n",
        "  DFteh = DFteh + 1\n",
        "if(TFC7[20] >= 1):\n",
        "  DFteh = DFteh + 1\n",
        "if(TFC8[20] >= 1):\n",
        "  DFteh = DFteh + 1\n",
        "if(TFC9[20] >= 1):\n",
        "  DFteh = DFteh + 1\n",
        "if(TFC10[20] >= 1):\n",
        "  DFteh = DFteh + 1\n",
        "if(TFC11[20] >= 1):\n",
        "  DFteh = DFteh + 1\n",
        "if(TFC12[20] >= 1):\n",
        "  DFteh = DFteh + 1"
      ],
      "metadata": {
        "id": "7RWKPjl97DPF"
      },
      "execution_count": null,
      "outputs": []
    },
    {
      "cell_type": "code",
      "source": [
        "if(TFC1[21] >= 1):\n",
        "  DFtawar = DFtawar + 1\n",
        "if(TFC2[21] >= 1):\n",
        "  DFtawar = DFtawar + 1\n",
        "if(TFC3[21] >= 1):\n",
        "  DFtawar = DFtawar + 1\n",
        "if(TFC4[21] >= 1):\n",
        "  DFtawar = DFtawar + 1\n",
        "if(TFC5[21] >= 1):\n",
        "  DFtawar = DFtawar + 1\n",
        "if(TFC6[21] >= 1):\n",
        "  DFtawar = DFtawar + 1\n",
        "if(TFC7[21] >= 1):\n",
        "  DFtawar = DFtawar + 1\n",
        "if(TFC8[21] >= 1):\n",
        "  DFtawar = DFtawar + 1\n",
        "if(TFC9[21] >= 1):\n",
        "  DFtawar = DFtawar + 1\n",
        "if(TFC10[21] >= 1):\n",
        "  DFtawar = DFtawar + 1\n",
        "if(TFC11[21] >= 1):\n",
        "  DFtawar = DFtawar + 1\n",
        "if(TFC12[21] >= 1):\n",
        "  DFtawar = DFtawar + 1"
      ],
      "metadata": {
        "id": "BWsYS2Tk7RhR"
      },
      "execution_count": null,
      "outputs": []
    },
    {
      "cell_type": "code",
      "source": [
        "if(TFC1[22] >= 1):\n",
        "  DFkopi = DFkopi + 1\n",
        "if(TFC2[22] >= 1):\n",
        "  DFkopi = DFkopi + 1\n",
        "if(TFC3[22] >= 1):\n",
        "  DFkopi = DFkopi + 1\n",
        "if(TFC4[22] >= 1):\n",
        "  DFkopi = DFkopi + 1\n",
        "if(TFC5[22] >= 1):\n",
        "  DFkopi = DFkopi + 1\n",
        "if(TFC6[22] >= 1):\n",
        "  DFkopi = DFkopi + 1\n",
        "if(TFC7[22] >= 1):\n",
        "  DFkopi = DFkopi + 1\n",
        "if(TFC8[22] >= 1):\n",
        "  DFkopi = DFkopi + 1\n",
        "if(TFC9[22] >= 1):\n",
        "  DFkopi = DFkopi + 1\n",
        "if(TFC10[22] >= 1):\n",
        "  DFkopi = DFkopi + 1\n",
        "if(TFC11[22] >= 1):\n",
        "  DFkopi = DFkopi + 1\n",
        "if(TFC12[22] >= 1):\n",
        "  DFkopi = DFkopi + 1"
      ],
      "metadata": {
        "id": "u4DwuNx67eFL"
      },
      "execution_count": null,
      "outputs": []
    },
    {
      "cell_type": "code",
      "source": [
        "if(TFC1[23] >= 1):\n",
        "  DFLusa = DFLusa + 1\n",
        "if(TFC2[23] >= 1):\n",
        "  DFLusa = DFLusa + 1\n",
        "if(TFC3[23] >= 1):\n",
        "  DFLusa = DFLusa + 1\n",
        "if(TFC4[23] >= 1):\n",
        "  DFLusa = DFLusa + 1\n",
        "if(TFC5[23] >= 1):\n",
        "  DFLusa = DFLusa + 1\n",
        "if(TFC6[23] >= 1):\n",
        "  DFLusa = DFLusa + 1\n",
        "if(TFC7[23] >= 1):\n",
        "  DFLusa = DFLusa + 1\n",
        "if(TFC8[23] >= 1):\n",
        "  DFLusa = DFLusa + 1\n",
        "if(TFC9[23] >= 1):\n",
        "  DFLusa = DFLusa + 1\n",
        "if(TFC10[23] >= 1):\n",
        "  DFLusa = DFLusa + 1\n",
        "if(TFC11[23] >= 1):\n",
        "  DFLusa = DFLusa + 1\n",
        "if(TFC12[23] >= 1):\n",
        "  DFLusa = DFLusa + 1"
      ],
      "metadata": {
        "id": "RWqsbiUe7q4g"
      },
      "execution_count": null,
      "outputs": []
    },
    {
      "cell_type": "code",
      "source": [
        "IDFFinal = [0,0,0,0,0,0,0,0,0,0,0,0,0,0,0,0,0,0,0,0,0,0,0,0]"
      ],
      "metadata": {
        "id": "TKitwRKB73U2"
      },
      "execution_count": null,
      "outputs": []
    },
    {
      "cell_type": "code",
      "source": [
        "idfSaya = abs(log(2 / (DFSaya), 10)) + 1\n",
        "IDFFinal[0] = idfSaya\n",
        "\n",
        "idfsuka = abs(log(2 / (DFsuka), 10)) + 1\n",
        "IDFFinal[1] = idfsuka\n",
        "\n",
        "idfmakanan = abs(log(2 / (DFmakanan), 10)) + 1\n",
        "IDFFinal[2] = idfmakanan\n",
        "\n",
        "idflaut = abs(log(2 / (DFlaut), 10)) + 1\n",
        "IDFFinal[3] = idflaut\n",
        "\n",
        "idfminuman = abs(log(2 / (DFminuman), 10)) + 1\n",
        "IDFFinal[4] = idfminuman\n",
        "\n",
        "idfmanis = abs(log(2 / (DFmanis), 10)) + 1\n",
        "IDFFinal[5] = idfmanis\n",
        "\n",
        "idfKemarin = abs(log(2 / (DFKemarin), 10)) + 1\n",
        "IDFFinal[6] = idfKemarin\n",
        "\n",
        "idfsaya = abs(log(2 / (DFsaya), 10)) + 1\n",
        "IDFFinal[7] = idfsaya\n",
        "\n",
        "idfmakan = abs(log(2 / (DFmakan), 10)) + 1\n",
        "IDFFinal[8] = idfmakan\n",
        "\n",
        "idfHari = abs(log(2 / (DFHari), 10)) + 1\n",
        "IDFFinal[9] = idfHari\n",
        "\n",
        "idfini = abs(log(2 / (DFini), 10)) + 1\n",
        "IDFFinal[10] = idfini\n",
        "\n",
        "idfkhas = abs(log(2 / (DFkhas), 10)) + 1\n",
        "IDFFinal[11] = idfkhas\n",
        "\n",
        "idfSunda = abs(log(2 / (DFSunda), 10)) + 1\n",
        "IDFFinal[12] = idfSunda\n",
        "\n",
        "idfBesok = abs(log(2 / (DFBesok), 10)) + 1\n",
        "IDFFinal[13] = idfBesok\n",
        "\n",
        "idfberencana = abs(log(2 / (DFberencana), 10)) + 1\n",
        "IDFFinal[14] = idfberencana\n",
        "\n",
        "idfBetawi = abs(log(2 / (DFBetawi), 10)) + 1\n",
        "IDFFinal[15] = idfBetawi\n",
        "\n",
        "idfroti = abs(log(2 / (DFroti), 10)) + 1\n",
        "IDFFinal[16] = idfroti\n",
        "\n",
        "idfPizza = abs(log(2 / (DFPizza), 10)) + 1\n",
        "IDFFinal[17] = idfPizza\n",
        "\n",
        "idfBurger = abs(log(2 / (DFBurger), 10)) + 1\n",
        "IDFFinal[18] = idfBurger\n",
        "\n",
        "idfminum = abs(log(2 / (DFminum), 10)) + 1\n",
        "IDFFinal[19] = idfminum\n",
        "\n",
        "idfteh = abs(log(2 / (DFteh), 10)) + 1\n",
        "IDFFinal[20] = idfteh\n",
        "\n",
        "idftawar = abs(log(2 / (DFtawar), 10)) + 1\n",
        "IDFFinal[21] = idftawar\n",
        "\n",
        "idfkopi = abs(log(2 / (DFkopi), 10)) + 1\n",
        "IDFFinal[22] = idfkopi\n",
        "\n",
        "idfLusa = abs(log(2 / (DFLusa), 10)) + 1\n",
        "IDFFinal[23] = idfLusa"
      ],
      "metadata": {
        "id": "bhLlIVcm770m"
      },
      "execution_count": null,
      "outputs": []
    },
    {
      "cell_type": "code",
      "source": [
        "print(\"IDF dari Saya : \",idfSaya)\n",
        "print(\"IDF dari suka     : \",idfsuka)\n",
        "print(\"IDF dari makanan  : \",idfmakanan)\n",
        "print(\"IDF dari laut     : \",idflaut)\n",
        "print(\"IDF dari minuman : \",idfminuman)\n",
        "print(\"IDF dari manis   : \",idfmanis)\n",
        "print(\"IDF dari Kemarin  : \",idfKemarin)\n",
        "print(\"IDF dari saya    : \",idfsaya)\n",
        "print(\"IDF dari makan    : \",idfmakan)\n",
        "print(\"IDF dari Hari    : \",idfHari)\n",
        "print(\"IDF dari ini    : \",idfini)\n",
        "print(\"IDF dari khas    : \",idfkhas)\n",
        "print(\"IDF dari Sunda    : \",idfSunda)\n",
        "print(\"IDF dari Besok    : \",idfBesok)\n",
        "print(\"IDF dari berencana    : \",idfberencana)\n",
        "print(\"IDF dari Betawi    : \",idfBetawi)\n",
        "print(\"IDF dari roti    : \",idfroti)\n",
        "print(\"IDF dari Pizza    : \",idfPizza)\n",
        "print(\"IDF dari Burger    : \",idfBurger)\n",
        "print(\"IDF dari minum    : \",idfminum)\n",
        "print(\"IDF dari teh    : \",idfteh)\n",
        "print(\"IDF dari tawar    : \",idftawar)\n",
        "print(\"IDF dari kopi    : \",idfkopi)\n",
        "print(\"IDF dari Lusa    : \",idfLusa)"
      ],
      "metadata": {
        "colab": {
          "base_uri": "https://localhost:8080/"
        },
        "id": "zKn7YvPS-zl6",
        "outputId": "e83d1719-0417-4987-bf37-92d1110ab14b"
      },
      "execution_count": null,
      "outputs": [
        {
          "output_type": "stream",
          "name": "stdout",
          "text": [
            "IDF dari Saya :  1.0\n",
            "IDF dari suka     :  1.0\n",
            "IDF dari makanan  :  1.3010299956639813\n",
            "IDF dari laut     :  1.0\n",
            "IDF dari minuman :  1.3010299956639813\n",
            "IDF dari manis   :  1.0\n",
            "IDF dari Kemarin  :  1.1760912590556813\n",
            "IDF dari saya    :  1.6989700043360187\n",
            "IDF dari makan    :  1.4771212547196624\n",
            "IDF dari Hari    :  1.1760912590556813\n",
            "IDF dari ini    :  1.1760912590556813\n",
            "IDF dari khas    :  1.0\n",
            "IDF dari Sunda    :  1.3010299956639813\n",
            "IDF dari Besok    :  1.1760912590556813\n",
            "IDF dari berencana    :  1.3010299956639813\n",
            "IDF dari Betawi    :  1.3010299956639813\n",
            "IDF dari roti    :  1.3010299956639813\n",
            "IDF dari Pizza    :  1.3010299956639813\n",
            "IDF dari Burger    :  1.3010299956639813\n",
            "IDF dari minum    :  1.3010299956639813\n",
            "IDF dari teh    :  1.0\n",
            "IDF dari tawar    :  1.3010299956639813\n",
            "IDF dari kopi    :  1.3010299956639813\n",
            "IDF dari Lusa    :  1.3010299956639813\n"
          ]
        }
      ]
    },
    {
      "cell_type": "code",
      "source": [
        "C1VectorSpace  = [0,0,0,0]\n",
        "C2VectorSpace  = [0,0,0,0]\n",
        "C3VectorSpace  = [0,0,0,0,0]\n",
        "C4VectorSpace  = [0,0,0,0,0,0,0]\n",
        "C5VectorSpace  = [0,0,0,0,0,0,0]\n",
        "C6VectorSpace  = [0,0,0,0]\n",
        "C7VectorSpace  = [0,0,0,0,0]\n",
        "C8VectorSpace  = [0,0,0,0,0]\n",
        "C9VectorSpace  = [0,0,0,0,0,0]\n",
        "C10VectorSpace = [0,0,0,0]\n",
        "C11VectorSpace = [0,0,0,0,0]\n",
        "C12VectorSpace = [0,0,0,0,0,0]"
      ],
      "metadata": {
        "id": "egyjncn0_90-"
      },
      "execution_count": null,
      "outputs": []
    },
    {
      "cell_type": "code",
      "source": [
        "for i in range(len(isiC1)):\n",
        "  for j in range(len(information)):\n",
        "    if (isiC1[i] == information[j]):\n",
        "        C1VectorSpace[i] = IDFFinal[j]\n",
        "print(\"C1 Vector Space : \",C1VectorSpace)\n",
        "\n",
        "for i in range(len(isiC2)):\n",
        "  for j in range(len(information)):\n",
        "    if (isiC2[i] == information[j]):\n",
        "        C2VectorSpace[i] = IDFFinal[j]\n",
        "print(\"C2 Vector Space : \",C2VectorSpace)\n",
        "\n",
        "for i in range(len(isiC3)):\n",
        "  for j in range(len(information)):\n",
        "    if (isiC3[i] == information[j]):\n",
        "        C3VectorSpace[i] = IDFFinal[j]\n",
        "print(\"C3 Vector Space : \",C3VectorSpace)\n",
        "\n",
        "for i in range(len(isiC4)):\n",
        "  for j in range(len(information)):\n",
        "    if (isiC4[i] == information[j]):\n",
        "        C4VectorSpace[i] = IDFFinal[j]\n",
        "print(\"C4 Vector Space : \",C4VectorSpace)\n",
        "\n",
        "for i in range(len(isiC5)):\n",
        "  for j in range(len(information)):\n",
        "    if (isiC5[i] == information[j]):\n",
        "        C5VectorSpace[i] = IDFFinal[j]\n",
        "print(\"C5 Vector Space : \",C5VectorSpace)\n",
        "\n",
        "for i in range(len(isiC6)):\n",
        "  for j in range(len(information)):\n",
        "    if (isiC6[i] == information[j]):\n",
        "        C6VectorSpace[i] = IDFFinal[j]\n",
        "print(\"C6 Vector Space : \",C6VectorSpace)\n",
        "\n",
        "for i in range(len(isiC7)):\n",
        "  for j in range(len(information)):\n",
        "    if (isiC7[i] == information[j]):\n",
        "        C7VectorSpace[i] = IDFFinal[j]\n",
        "print(\"C7 Vector Space : \",C7VectorSpace)\n",
        "\n",
        "for i in range(len(isiC8)):\n",
        "  for j in range(len(information)):\n",
        "    if (isiC8[i] == information[j]):\n",
        "        C8VectorSpace[i] = IDFFinal[j]\n",
        "print(\"C8 Vector Space : \",C8VectorSpace)\n",
        "\n",
        "for i in range(len(isiC9)):\n",
        "  for j in range(len(information)):\n",
        "    if (isiC9[i] == information[j]):\n",
        "        C9VectorSpace[i] = IDFFinal[j]\n",
        "print(\"C9 Vector Space : \",C9VectorSpace)\n",
        "\n",
        "for i in range(len(isiC10)):\n",
        "  for j in range(len(information)):\n",
        "    if (isiC10[i] == information[j]):\n",
        "        C10VectorSpace[i] = IDFFinal[j]\n",
        "print(\"C10 Vector Space : \",C10VectorSpace)\n",
        "\n",
        "for i in range(len(isiC11)):\n",
        "  for j in range(len(information)):\n",
        "    if (isiC11[i] == information[j]):\n",
        "        C11VectorSpace[i] = IDFFinal[j]\n",
        "print(\"C11 Vector Space : \",C11VectorSpace)\n",
        "\n",
        "for i in range(len(isiC12)):\n",
        "  for j in range(len(information)):\n",
        "    if (isiC12[i] == information[j]):\n",
        "        C12VectorSpace[i] = IDFFinal[j]\n",
        "print(\"C12 Vector Space : \",C12VectorSpace)"
      ],
      "metadata": {
        "colab": {
          "base_uri": "https://localhost:8080/"
        },
        "id": "Om97jwiKBMRb",
        "outputId": "6692dc8d-c3c4-4850-f622-9e85dff92897"
      },
      "execution_count": null,
      "outputs": [
        {
          "output_type": "stream",
          "name": "stdout",
          "text": [
            "C1 Vector Space :  [1.0, 1.0, 1.3010299956639813, 1.0]\n",
            "C2 Vector Space :  [1.0, 1.0, 1.3010299956639813, 1.0]\n",
            "C3 Vector Space :  [1.1760912590556813, 1.6989700043360187, 1.4771212547196624, 1.3010299956639813, 1.0]\n",
            "C4 Vector Space :  [1.1760912590556813, 1.1760912590556813, 1.6989700043360187, 1.4771212547196624, 1.3010299956639813, 1.0, 1.3010299956639813]\n",
            "C5 Vector Space :  [1.1760912590556813, 1.6989700043360187, 1.3010299956639813, 1.4771212547196624, 1.3010299956639813, 1.0, 1.3010299956639813]\n",
            "C6 Vector Space :  [1.1760912590556813, 1.6989700043360187, 1.4771212547196624, 1.3010299956639813]\n",
            "C7 Vector Space :  [1.1760912590556813, 1.1760912590556813, 1.6989700043360187, 1.4771212547196624, 1.3010299956639813]\n",
            "C8 Vector Space :  [1.1760912590556813, 1.6989700043360187, 1.3010299956639813, 1.4771212547196624, 1.3010299956639813]\n",
            "C9 Vector Space :  [1.1760912590556813, 1.1760912590556813, 1.6989700043360187, 1.3010299956639813, 1.0, 1.3010299956639813]\n",
            "C10 Vector Space :  [1.1760912590556813, 1.6989700043360187, 1.3010299956639813, 0]\n",
            "C11 Vector Space :  [1.1760912590556813, 1.6989700043360187, 1.3010299956639813, 1.3010299956639813, 1.3010299956639813]\n",
            "C12 Vector Space :  [1.3010299956639813, 1.6989700043360187, 1.3010299956639813, 1.3010299956639813, 1.0, 1.0]\n"
          ]
        }
      ]
    },
    {
      "cell_type": "code",
      "source": [
        "# Contoh Penggunaan Klasifikasi dengan TF-IDF\n",
        "\n",
        "# QUERY : Saya makan Pizza\n",
        "weightCorpus1  = 0\n",
        "weightCorpus2  = 0\n",
        "weightCorpus3  = 0\n",
        "weightCorpus4  = 0\n",
        "weightCorpus5  = 0\n",
        "weightCorpus6  = 0\n",
        "weightCorpus7  = 0\n",
        "weightCorpus8  = 0\n",
        "weightCorpus9  = 0\n",
        "weightCorpus10 = 0\n",
        "weightCorpus11 = 0\n",
        "weightCorpus12 = 0\n",
        "\n",
        "for i in range(len(isiC1)):\n",
        "  if (isiC1[i] == \"Saya\"):\n",
        "    weightCorpus1 += C1VectorSpace[i]\n",
        "  elif (isiC1[i] == \"makan\"):\n",
        "    weightCorpus1 += C1VectorSpace[i]\n",
        "  elif (isiC1[i] == \"Pizza\"):\n",
        "    weightCorpus1 += C1VectorSpace[i]\n",
        "\n",
        "for i in range(len(isiC2)):\n",
        "  if (isiC2[i] == \"Saya\"):\n",
        "    weightCorpus2 += C2VectorSpace[i]\n",
        "  elif (isiC2[i] == \"makan\"):\n",
        "    weightCorpus2 += C2VectorSpace[i]\n",
        "  elif (isiC2[i] == \"Pizza\"):\n",
        "    weightCorpus2 += C2VectorSpace[i]\n",
        "\n",
        "for i in range(len(isiC3)):\n",
        "  if (isiC3[i] == \"Saya\"):\n",
        "    weightCorpus3 += C3VectorSpace[i]\n",
        "  elif (isiC3[i] == \"makan\"):\n",
        "    weightCorpus3 += C3VectorSpace[i]\n",
        "  elif (isiC3[i] == \"Pizza\"):\n",
        "    weightCorpus3 += C3VectorSpace[i]\n",
        "\n",
        "for i in range(len(isiC4)):\n",
        "  if (isiC4[i] == \"Saya\"):\n",
        "    weightCorpus4 += C4VectorSpace[i]\n",
        "  elif (isiC4[i] == \"makan\"):\n",
        "    weightCorpus4 += C4VectorSpace[i]\n",
        "  elif (isiC4[i] == \"Pizza\"):\n",
        "    weightCorpus4 += C4VectorSpace[i]\n",
        "\n",
        "for i in range(len(isiC5)):\n",
        "  if (isiC5[i] == \"Saya\"):\n",
        "    weightCorpus5 += C5VectorSpace[i]\n",
        "  elif (isiC5[i] == \"makan\"):\n",
        "    weightCorpus5 += C5VectorSpace[i]\n",
        "  elif (isiC5[i] == \"Pizza\"):\n",
        "    weightCorpus5 += C5VectorSpace[i]\n",
        "\n",
        "for i in range(len(isiC6)):\n",
        "  if (isiC6[i] == \"Saya\"):\n",
        "    weightCorpus6 += C6VectorSpace[i]\n",
        "  elif (isiC6[i] == \"makan\"):\n",
        "    weightCorpus6 += C6VectorSpace[i]\n",
        "  elif (isiC6[i] == \"Pizza\"):\n",
        "    weightCorpus6 += C6VectorSpace[i]\n",
        "\n",
        "for i in range(len(isiC7)):\n",
        "  if (isiC7[i] == \"Saya\"):\n",
        "    weightCorpus7 += C7VectorSpace[i]\n",
        "  elif (isiC7[i] == \"makan\"):\n",
        "    weightCorpus7 += C7VectorSpace[i]\n",
        "  elif (isiC7[i] == \"Pizza\"):\n",
        "    weightCorpus7 += C7VectorSpace[i]\n",
        "\n",
        "for i in range(len(isiC8)):\n",
        "  if (isiC8[i] == \"Saya\"):\n",
        "    weightCorpus8 += C8VectorSpace[i]\n",
        "  elif (isiC8[i] == \"makan\"):\n",
        "    weightCorpus8 += C8VectorSpace[i]\n",
        "  elif (isiC8[i] == \"Pizza\"):\n",
        "    weightCorpus8 += C8VectorSpace[i]\n",
        "\n",
        "for i in range(len(isiC9)):\n",
        "  if (isiC9[i] == \"Saya\"):\n",
        "    weightCorpus9 += C9VectorSpace[i]\n",
        "  elif (isiC9[i] == \"makan\"):\n",
        "    weightCorpus9 += C9VectorSpace[i]\n",
        "  elif (isiC9[i] == \"Pizza\"):\n",
        "    weightCorpus9 += C9VectorSpace[i]\n",
        "\n",
        "for i in range(len(isiC10)):\n",
        "  if (isiC10[i] == \"Saya\"):\n",
        "    weightCorpus10 += C10VectorSpace[i]\n",
        "  elif (isiC10[i] == \"makan\"):\n",
        "    weightCorpus10 += C10VectorSpace[i]\n",
        "  elif (isiC10[i] == \"Pizza\"):\n",
        "    weightCorpus10 += C10VectorSpace[i]\n",
        "\n",
        "for i in range(len(isiC11)):\n",
        "  if (isiC11[i] == \"Saya\"):\n",
        "    weightCorpus11 += C11VectorSpace[i]\n",
        "  elif (isiC11[i] == \"makan\"):\n",
        "    weightCorpus11 += C11VectorSpace[i]\n",
        "  elif (isiC11[i] == \"Pizza\"):\n",
        "    weightCorpus11 += C11VectorSpace[i]\n",
        "\n",
        "for i in range(len(isiC12)):\n",
        "  if (isiC12[i] == \"Saya\"):\n",
        "    weightCorpus12 += C12VectorSpace[i]\n",
        "  elif (isiC12[i] == \"makan\"):\n",
        "    weightCorpus12 += C12VectorSpace[i]\n",
        "  elif (isiC12[i] == \"Pizza\"):\n",
        "    weightCorpus12 += C12VectorSpace[i]"
      ],
      "metadata": {
        "id": "fJWrWPLSCqMG"
      },
      "execution_count": null,
      "outputs": []
    },
    {
      "cell_type": "code",
      "source": [
        "dictionary_of_weights = {'C1': weightCorpus1, \n",
        "                       'C2': weightCorpus2,\n",
        "                       'C3': weightCorpus3,\n",
        "                       'C4': weightCorpus4,\n",
        "                       'C5': weightCorpus5,\n",
        "                       'C6': weightCorpus6,\n",
        "                       'C7': weightCorpus7,\n",
        "                       'C8': weightCorpus8,\n",
        "                       'C9': weightCorpus9,\n",
        "                       'C10': weightCorpus10,\n",
        "                       'C11': weightCorpus11,\n",
        "                       'C12': weightCorpus12\n",
        "}"
      ],
      "metadata": {
        "id": "DvoNKxjcEw8W"
      },
      "execution_count": null,
      "outputs": []
    },
    {
      "cell_type": "code",
      "source": [
        "sorted_doc = sorted(dictionary_of_weights.items(), key = lambda kv: kv[1], reverse=True)\n",
        "\n",
        "sorted_dictionary = dict(sorted_doc)\n",
        "print(sorted_dictionary)\n",
        "\n",
        "# Hasil Menunjukkan untuk Query \"Saya makan Pizza\" diklasifikan ke Corpus ke 7"
      ],
      "metadata": {
        "colab": {
          "base_uri": "https://localhost:8080/"
        },
        "id": "1p-nwns6FEgJ",
        "outputId": "7b8c0115-9b0b-46d5-f261-bfefe4c60993"
      },
      "execution_count": null,
      "outputs": [
        {
          "output_type": "stream",
          "name": "stdout",
          "text": [
            "{'C7': 2.778151250383644, 'C3': 1.4771212547196624, 'C4': 1.4771212547196624, 'C5': 1.4771212547196624, 'C6': 1.4771212547196624, 'C8': 1.4771212547196624, 'C1': 1.0, 'C2': 1.0, 'C9': 0, 'C10': 0, 'C11': 0, 'C12': 0}\n"
          ]
        }
      ]
    }
  ]
}